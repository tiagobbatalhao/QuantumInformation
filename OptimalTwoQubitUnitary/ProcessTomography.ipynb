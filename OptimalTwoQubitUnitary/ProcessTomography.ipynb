{
 "cells": [
  {
   "cell_type": "markdown",
   "metadata": {},
   "source": [
    "# Process tomography\n",
    "\n",
    "Because Pyquil offers the 'wavefunction' method, it is much easier to perform a quantum process tomography. It's necessary only to call 'wavefunction' $2^N$ times (where $N$ is the number of qubits)."
   ]
  },
  {
   "cell_type": "code",
   "execution_count": 1,
   "metadata": {},
   "outputs": [],
   "source": [
    "import pylab as py\n",
    "from pyquil.quil import Program\n",
    "import pyquil.api as api\n",
    "import pyquil.gates as gt\n",
    "qvm = api.QVMConnection()\n",
    "import itertools\n",
    "try:\n",
    "    import qutip as qp\n",
    "except ModuleNotFoundError:\n",
    "    qp = None\n",
    "    "
   ]
  },
  {
   "cell_type": "code",
   "execution_count": 2,
   "metadata": {},
   "outputs": [],
   "source": [
    "def do_process_tomography(program):\n",
    "    qubits = sorted(program.get_qubits())\n",
    "    dimension = 2**len(qubits)\n",
    "    unitary = 1j*py.zeros((dimension,dimension))\n",
    "    for column,initial_state in enumerate(itertools.product([False,True],repeat=len(qubits))):\n",
    "        preparation = Program()\n",
    "        for initial,qubit in zip(initial_state[::-1],qubits):\n",
    "            if initial:\n",
    "                preparation.inst(gt.X(qubit))\n",
    "        wv_final = qvm.wavefunction(preparation + program)\n",
    "        unitary[:,column] = py.array(wv_final.amplitudes)\n",
    "    \n",
    "    return unitary"
   ]
  },
  {
   "cell_type": "markdown",
   "metadata": {},
   "source": [
    "# Automated testing\n"
   ]
  },
  {
   "cell_type": "code",
   "execution_count": 3,
   "metadata": {},
   "outputs": [
    {
     "name": "stderr",
     "output_type": "stream",
     "text": [
      "..\n",
      "----------------------------------------------------------------------\n",
      "Ran 2 tests in 1.255s\n",
      "\n",
      "OK\n"
     ]
    }
   ],
   "source": [
    "import unittest\n",
    "\n",
    "class TestProcessTomography(unittest.TestCase):\n",
    "    \"\"\"Example of how to use unittest in Jupyter.\"\"\"\n",
    "    \n",
    "    def test_hadamard(self):\n",
    "        circuit = Program([gt.H(0)])\n",
    "        unitary = qp.Qobj([[1,1],[1,-1]]) / py.sqrt(2)\n",
    "        tomography = do_process_tomography(circuit)\n",
    "        error = unitary.dag() * qp.Qobj(tomography,dims=unitary.dims)\n",
    "        eigenvalues = error.eigenenergies()\n",
    "        eigenvalues /= eigenvalues[0]\n",
    "        assert all([abs(x-1)<1e-12 for x in eigenvalues])\n",
    "        \n",
    "    def test_CNOT(self):\n",
    "        circuit = Program([gt.H(1),gt.CZ(0,1),gt.H(1)])\n",
    "        unitary = qp.Qobj([[1,0,0,0],[0,0,0,1],[0,0,1,0],[0,1,0,0]]) / py.sqrt(2)\n",
    "        tomography = do_process_tomography(circuit)\n",
    "        error = unitary.dag() * qp.Qobj(tomography,dims=unitary.dims)\n",
    "        eigenvalues = error.eigenenergies()\n",
    "        eigenvalues /= eigenvalues[0]\n",
    "        assert all([abs(x-1)<1e-12 for x in eigenvalues])\n",
    "if __name__ == '__main__':\n",
    "    unittest.main(argv=['first-arg-is-ignored'], exit=False)"
   ]
  },
  {
   "cell_type": "code",
   "execution_count": null,
   "metadata": {},
   "outputs": [],
   "source": []
  }
 ],
 "metadata": {
  "kernelspec": {
   "display_name": "Python 3",
   "language": "python",
   "name": "python3"
  },
  "language_info": {
   "codemirror_mode": {
    "name": "ipython",
    "version": 3
   },
   "file_extension": ".py",
   "mimetype": "text/x-python",
   "name": "python",
   "nbconvert_exporter": "python",
   "pygments_lexer": "ipython3",
   "version": "3.6.4"
  }
 },
 "nbformat": 4,
 "nbformat_minor": 2
}
